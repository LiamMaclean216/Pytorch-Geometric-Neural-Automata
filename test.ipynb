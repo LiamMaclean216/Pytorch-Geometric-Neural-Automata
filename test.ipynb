{
 "cells": [
  {
   "cell_type": "code",
   "execution_count": 1,
   "metadata": {},
   "outputs": [
    {
     "data": {
      "text/plain": [
       "tensor([[ 0,  0,  0,  1,  1,  1,  1,  1,  2,  2,  2,  3,  3,  3,  4,  4,  4,  4,\n",
       "          4,  5,  5,  5,  0,  1,  2,  6,  7,  8,  5,  4,  3,  9, 10, 11,  0,  1,\n",
       "          2,  3,  4,  5,  6,  7,  8,  9, 10, 11],\n",
       "        [ 1,  3,  4,  0,  2,  3,  4,  5,  1,  4,  5,  0,  1,  4,  0,  1,  2,  3,\n",
       "          5,  1,  2,  4,  6,  7,  8,  0,  1,  2,  9, 10, 11,  5,  4,  3,  0,  1,\n",
       "          2,  3,  4,  5,  6,  7,  8,  9, 10, 11]])"
      ]
     },
     "execution_count": 1,
     "metadata": {},
     "output_type": "execute_result"
    },
    {
     "data": {
      "image/png": "[encoded data removed]",
      "text/plain": [
       "<Figure size 432x288 with 1 Axes>"
      ]
     },
     "metadata": {},
     "output_type": "display_data"
    }
   ],
   "source": [
    "\n",
    "# conda install pytorch==1.11.0 torchvision==0.12.0 torchaudio==0.11.0 -c pytorch -y & conda install pyg -c pyg -y & conda install -c anaconda networkx -y & conda install -c conda-forge matplotlib -y\n",
    "\n",
    "import torch\n",
    "import torch.nn as nn\n",
    "import torch.nn.functional as F\n",
    "import torch.optim as optim\n",
    "from torch.utils.data import DataLoader\n",
    "from torch_geometric.data import Data\n",
    "import networkx as nx\n",
    "import matplotlib.pyplot as plt\n",
    "import torch_geometric.utils as utils\n",
    "from utils import *\n",
    "from model import UpdateRule\n",
    "from datasets import *\n",
    "\n",
    "\n",
    "\n",
    "meta_set = MetaDataset()\n",
    "\n",
    "\n",
    "\n",
    "hidden_dim = 64\n",
    "edge_dim = None\n",
    "# edge_dim = 8\n",
    "\n",
    "n_inputs = meta_set.n_inputs\n",
    "n_outputs = meta_set.n_outputs\n",
    "height = 2\n",
    "width = meta_set.n_outputs\n",
    "\n",
    "update_rule = UpdateRule(\n",
    "    n_inputs, \n",
    "    n_outputs,\n",
    "    hidden_dim,\n",
    "    edge_dim,\n",
    "    network_width=hidden_dim,\n",
    "    heads = 1\n",
    ")\n",
    "update_rule.build_graph(\n",
    "    height,\n",
    "    width,\n",
    "    mode=\"dense\"\n",
    ")\n",
    "\n",
    "\n",
    "# cuda_device = torch.device(\"cuda:0\" if torch.cuda.is_available else \"cpu\")\n",
    "cuda_device = torch.device(\"cpu\")\n",
    "\n",
    "update_rule = update_rule.to(cuda_device)\n",
    "\n",
    "# edge_attr = torch.concat(\n",
    "#     (\n",
    "#         torch.tensor([[1,0]]*(update_rule.graph.edge_index[0].shape[0]//2)), \n",
    "#         torch.tensor([[0,1]]*(update_rule.graph.edge_index[0].shape[0]//2))\n",
    "#     ), \n",
    "# 0).float()\n",
    "edge_attr = None\n",
    "# edge_attr = update_rule.edge_attr\n",
    "\n",
    "update_rule.draw()\n",
    "\n",
    "update_rule.edge_index"
   ]
  },
  {
   "cell_type": "code",
   "execution_count": 2,
   "metadata": {},
   "outputs": [
    {
     "name": "stdout",
     "output_type": "stream",
     "text": [
      "      Epoch 0 |     Loss 0.2544 |     Accuracy 0% |     Network out: [0.331 0.336 0.333] |     Correct:  [1. 0. 0.] |     Network In: []     \n",
      "      Epoch 100 |     Loss 0.255392 |     Accuracy 20% |     Network out: [0.046 0.407 0.548] |     Correct:  [0. 1. 0.] |     Network In: []     \n",
      "      Epoch 200 |     Loss 0.251141 |     Accuracy 20% |     Network out: [0.426 0.208 0.366] |     Correct:  [1. 0. 0.] |     Network In: []      \n",
      "      Epoch 300 |     Loss 0.251178 |     Accuracy 0% |     Network out: [0.235 0.368 0.397] |     Correct:  [0. 0. 1.] |     Network In: []      \n",
      "      Epoch 400 |     Loss 0.247493 |     Accuracy 20% |     Network out: [0.544 0.367 0.089] |     Correct:  [1. 0. 0.] |     Network In: []     \n",
      "      Epoch 500 |     Loss 0.256204 |     Accuracy 40% |     Network out: [0.037 0.104 0.859] |     Correct:  [0. 1. 0.] |     Network In: []     \n",
      "      Epoch 600 |     Loss 0.243652 |     Accuracy 20% |     Network out: [0.422 0.158 0.419] |     Correct:  [0. 0. 1.] |     Network In: []      In: []     \n",
      "      Epoch 700 |     Loss 0.239661 |     Accuracy 20% |     Network out: [0.554 0.441 0.005] |     Correct:  [0. 1. 0.] |     Network In: []     \n",
      "      Epoch 800 |     Loss 0.232028 |     Accuracy 100% |     Network out: [0.441 0.006 0.553] |     Correct:  [0. 0. 1.] |     Network In: []     \n",
      "      Epoch 900 |     Loss 0.203781 |     Accuracy 100% |     Network out: [0.001 0.716 0.283] |     Correct:  [0. 1. 0.] |     Network In: []     In: []      \n",
      "      Epoch 1000 |     Loss 0.188951 |     Accuracy 100% |     Network out: [2.019e-03 9.980e-01 6.352e-06] |     Correct:  [0. 1. 0.] |     Network In: []     \n",
      "      Epoch 1100 |     Loss 0.188858 |     Accuracy 100% |     Network out: [3.737e-06 9.994e-01 5.602e-04] |     Correct:  [0. 1. 0.] |     Network In: []     \n",
      "      Epoch 1200 |     Loss 0.188859 |     Accuracy 100% |     Network out: [2.626e-06 9.997e-01 2.829e-04] |     Correct:  [0. 1. 0.] |     Network In: []     \n",
      "      Epoch 1300 |     Loss 0.188852 |     Accuracy 100% |     Network out: [9.999e-01 5.844e-06 8.679e-05] |     Correct:  [1. 0. 0.] |     Network In: []     \n",
      "      Epoch 1400 |     Loss 0.188849 |     Accuracy 100% |     Network out: [9.999e-01 1.046e-04 1.687e-06] |     Correct:  [1. 0. 0.] |     Network In: []     \n",
      "      Epoch 1500 |     Loss 0.188849 |     Accuracy 100% |     Network out: [9.999e-01 5.450e-06 7.520e-05] |     Correct:  [1. 0. 0.] |     Network In: []     \n",
      "      Epoch 1600 |     Loss 0.18885 |     Accuracy 100% |     Network out: [1.903e-06 9.999e-01 1.363e-04] |     Correct:  [0. 1. 0.] |     Network In: []      \n",
      "      Epoch 1700 |     Loss 0.188849 |     Accuracy 100% |     Network out: [1.454e-04 9.999e-01 1.824e-06] |     Correct:  [0. 1. 0.] |     Network In: []     \n",
      "      Epoch 1800 |     Loss 0.188848 |     Accuracy 100% |     Network out: [1.724e-06 9.999e-01 1.158e-04] |     Correct:  [0. 1. 0.] |     Network In: []     \n",
      "      Epoch 1835 |     Loss 0.188848 |     Accuracy 100% |     Network out: [1.306e-04 9.999e-01 1.704e-06] |     Correct:  [0. 1. 0.] |     Network In: []     "
     ]
    },
    {
     "ename": "KeyboardInterrupt",
     "evalue": "",
     "output_type": "error",
     "traceback": [
      "\u001b[1;31m---------------------------------------------------------------------------\u001b[0m",
      "\u001b[1;31mKeyboardInterrupt\u001b[0m                         Traceback (most recent call last)",
      "\u001b[1;32mc:\\Users\\lmacl\\OneDrive\\Desktop\\Pytorch-Geometric-Neural-Automata\\test.ipynb Cell 2\u001b[0m in \u001b[0;36m<cell line: 6>\u001b[1;34m()\u001b[0m\n\u001b[0;32m      <a href='vscode-notebook-cell:/c%3A/Users/lmacl/OneDrive/Desktop/Pytorch-Geometric-Neural-Automata/test.ipynb#W1sZmlsZQ%3D%3D?line=0'>1</a>\u001b[0m \u001b[39mfrom\u001b[39;00m \u001b[39mtraining\u001b[39;00m \u001b[39mimport\u001b[39;00m \u001b[39m*\u001b[39m\n\u001b[0;32m      <a href='vscode-notebook-cell:/c%3A/Users/lmacl/OneDrive/Desktop/Pytorch-Geometric-Neural-Automata/test.ipynb#W1sZmlsZQ%3D%3D?line=1'>2</a>\u001b[0m optimizer \u001b[39m=\u001b[39m torch\u001b[39m.\u001b[39moptim\u001b[39m.\u001b[39mAdam(update_rule\u001b[39m.\u001b[39mparameters(), lr\u001b[39m=\u001b[39m\u001b[39m0.001\u001b[39m)\n\u001b[1;32m----> <a href='vscode-notebook-cell:/c%3A/Users/lmacl/OneDrive/Desktop/Pytorch-Geometric-Neural-Automata/test.ipynb#W1sZmlsZQ%3D%3D?line=5'>6</a>\u001b[0m x \u001b[39m=\u001b[39m train_on_meta_set(\n\u001b[0;32m      <a href='vscode-notebook-cell:/c%3A/Users/lmacl/OneDrive/Desktop/Pytorch-Geometric-Neural-Automata/test.ipynb#W1sZmlsZQ%3D%3D?line=6'>7</a>\u001b[0m     update_rule, optimizer, meta_set, {\n\u001b[0;32m      <a href='vscode-notebook-cell:/c%3A/Users/lmacl/OneDrive/Desktop/Pytorch-Geometric-Neural-Automata/test.ipynb#W1sZmlsZQ%3D%3D?line=7'>8</a>\u001b[0m         \u001b[39m\"\u001b[39;49m\u001b[39mn_steps\u001b[39;49m\u001b[39m\"\u001b[39;49m: \u001b[39m1\u001b[39;49m,\n\u001b[0;32m      <a href='vscode-notebook-cell:/c%3A/Users/lmacl/OneDrive/Desktop/Pytorch-Geometric-Neural-Automata/test.ipynb#W1sZmlsZQ%3D%3D?line=8'>9</a>\u001b[0m         \u001b[39m\"\u001b[39;49m\u001b[39mbatch_size\u001b[39;49m\u001b[39m\"\u001b[39;49m : \u001b[39m5\u001b[39;49m,\n\u001b[0;32m     <a href='vscode-notebook-cell:/c%3A/Users/lmacl/OneDrive/Desktop/Pytorch-Geometric-Neural-Automata/test.ipynb#W1sZmlsZQ%3D%3D?line=9'>10</a>\u001b[0m         \u001b[39m\"\u001b[39;49m\u001b[39mn_epochs\u001b[39;49m\u001b[39m\"\u001b[39;49m : \u001b[39m1000\u001b[39;49m,\n\u001b[0;32m     <a href='vscode-notebook-cell:/c%3A/Users/lmacl/OneDrive/Desktop/Pytorch-Geometric-Neural-Automata/test.ipynb#W1sZmlsZQ%3D%3D?line=10'>11</a>\u001b[0m     }, edge_attr \u001b[39m=\u001b[39;49m edge_attr\u001b[39m#, edge_index=best_edge_index\u001b[39;49;00m\n\u001b[0;32m     <a href='vscode-notebook-cell:/c%3A/Users/lmacl/OneDrive/Desktop/Pytorch-Geometric-Neural-Automata/test.ipynb#W1sZmlsZQ%3D%3D?line=11'>12</a>\u001b[0m )\n",
      "File \u001b[1;32mc:\\Users\\lmacl\\OneDrive\\Desktop\\Pytorch-Geometric-Neural-Automata\\training.py:45\u001b[0m, in \u001b[0;36mtrain_on_meta_set\u001b[1;34m(update_rule, optimizer, meta_set, training_params, edge_attr, verbose, edge_index)\u001b[0m\n\u001b[0;32m     42\u001b[0m accuracy \u001b[39m/\u001b[39m\u001b[39m=\u001b[39m training_params[\u001b[39m\"\u001b[39m\u001b[39mbatch_size\u001b[39m\u001b[39m\"\u001b[39m]\n\u001b[0;32m     44\u001b[0m loss_integral \u001b[39m+\u001b[39m\u001b[39m=\u001b[39m loss\n\u001b[1;32m---> 45\u001b[0m loss\u001b[39m.\u001b[39;49mbackward()\n\u001b[0;32m     48\u001b[0m nn\u001b[39m.\u001b[39mutils\u001b[39m.\u001b[39mclip_grad_norm_(update_rule\u001b[39m.\u001b[39mparameters(), \u001b[39m1\u001b[39m)\n\u001b[0;32m     49\u001b[0m optimizer\u001b[39m.\u001b[39mstep()  \n",
      "File \u001b[1;32mc:\\Users\\lmacl\\miniconda3\\lib\\site-packages\\torch\\_tensor.py:363\u001b[0m, in \u001b[0;36mTensor.backward\u001b[1;34m(self, gradient, retain_graph, create_graph, inputs)\u001b[0m\n\u001b[0;32m    354\u001b[0m \u001b[39mif\u001b[39;00m has_torch_function_unary(\u001b[39mself\u001b[39m):\n\u001b[0;32m    355\u001b[0m     \u001b[39mreturn\u001b[39;00m handle_torch_function(\n\u001b[0;32m    356\u001b[0m         Tensor\u001b[39m.\u001b[39mbackward,\n\u001b[0;32m    357\u001b[0m         (\u001b[39mself\u001b[39m,),\n\u001b[1;32m   (...)\u001b[0m\n\u001b[0;32m    361\u001b[0m         create_graph\u001b[39m=\u001b[39mcreate_graph,\n\u001b[0;32m    362\u001b[0m         inputs\u001b[39m=\u001b[39minputs)\n\u001b[1;32m--> 363\u001b[0m torch\u001b[39m.\u001b[39;49mautograd\u001b[39m.\u001b[39;49mbackward(\u001b[39mself\u001b[39;49m, gradient, retain_graph, create_graph, inputs\u001b[39m=\u001b[39;49minputs)\n",
      "File \u001b[1;32mc:\\Users\\lmacl\\miniconda3\\lib\\site-packages\\torch\\autograd\\__init__.py:173\u001b[0m, in \u001b[0;36mbackward\u001b[1;34m(tensors, grad_tensors, retain_graph, create_graph, grad_variables, inputs)\u001b[0m\n\u001b[0;32m    168\u001b[0m     retain_graph \u001b[39m=\u001b[39m create_graph\n\u001b[0;32m    170\u001b[0m \u001b[39m# The reason we repeat same the comment below is that\u001b[39;00m\n\u001b[0;32m    171\u001b[0m \u001b[39m# some Python versions print out the first line of a multi-line function\u001b[39;00m\n\u001b[0;32m    172\u001b[0m \u001b[39m# calls in the traceback and some print out the last line\u001b[39;00m\n\u001b[1;32m--> 173\u001b[0m Variable\u001b[39m.\u001b[39;49m_execution_engine\u001b[39m.\u001b[39;49mrun_backward(  \u001b[39m# Calls into the C++ engine to run the backward pass\u001b[39;49;00m\n\u001b[0;32m    174\u001b[0m     tensors, grad_tensors_, retain_graph, create_graph, inputs,\n\u001b[0;32m    175\u001b[0m     allow_unreachable\u001b[39m=\u001b[39;49m\u001b[39mTrue\u001b[39;49;00m, accumulate_grad\u001b[39m=\u001b[39;49m\u001b[39mTrue\u001b[39;49;00m)\n",
      "\u001b[1;31mKeyboardInterrupt\u001b[0m: "
     ]
    }
   ],
   "source": [
    "from training import *\n",
    "optimizer = torch.optim.Adam(update_rule.parameters(), lr=0.001)\n",
    "\n",
    "\n",
    "\n",
    "x = train_on_meta_set(\n",
    "    update_rule, optimizer, meta_set, {\n",
    "        \"n_steps\": 1,\n",
    "        \"batch_size\" : 5,\n",
    "        \"n_epochs\" : 1000,\n",
    "    }, edge_attr = edge_attr#, edge_index=best_edge_index\n",
    ")"
   ]
  },
  {
   "cell_type": "markdown",
   "metadata": {},
   "source": [
    "x = update_rule.initial_state()\n",
    "x, loss, network_output, correct, network_in = update_rule(\n",
    "                    x, 1, DataLoader(TranslateDataset(-1), shuffle=True), edge_attr=edge_attr\n",
    "                )\n",
    "print(loss, network_output, correct, network_in)"
   ]
  },
  {
   "cell_type": "code",
   "execution_count": null,
   "metadata": {},
   "outputs": [],
   "source": [
    "import pygad\n",
    "import pygad.torchga\n",
    "from training import *\n",
    "import torch\n",
    "import time\n",
    "\n",
    "class EdgeModel(torch.nn.Module):\n",
    "    def __init__(self) -> None:\n",
    "        super().__init__()\n",
    "\n",
    "        self.edge_mask = nn.Parameter(torch.rand([update_rule.graph.edge_index.shape[1]]))\n",
    "\n",
    "    def get_edges(self):\n",
    "        \"\"\"\n",
    "        Returns elements of update_rule.edge_index coressponding to the incidces of edge_mask > 0\n",
    "        \"\"\"\n",
    "        # clamp edge mask to be between -1 and 1\n",
    "        self.edge_mask.clamp(-1, 1)\n",
    "\n",
    "        return update_rule.edge_index[:, self.edge_mask > 0]\n",
    "\n",
    "def fitness_func(solution, sol_idx):\n",
    "    global edge_model\n",
    "    model_weights_dict = pygad.torchga.model_weights_as_dict(model=edge_model, weights_vector=solution)\n",
    "    edge_model.load_state_dict(model_weights_dict)\n",
    "\n",
    "    update_rule = UpdateRule(\n",
    "        n_inputs, \n",
    "        n_outputs,\n",
    "        hidden_dim,\n",
    "        edge_dim,\n",
    "        network_width=hidden_dim,\n",
    "        heads = 1\n",
    "    )\n",
    "\n",
    "    update_rule.build_graph(\n",
    "        height,\n",
    "        width,\n",
    "        mode=\"dense\"\n",
    "    )\n",
    "    optimizer = torch.optim.Adam(update_rule.parameters(), lr=0.001)\n",
    "    loss_integral = train_on_meta_set(\n",
    "        update_rule, optimizer, meta_set, {\n",
    "            \"n_steps\": 1,\n",
    "            \"batch_size\" : 5,\n",
    "            \"n_epochs\" : 25,\n",
    "        }, edge_attr = edge_attr, verbose=False, edge_index = edge_model.get_edges()\n",
    "        )\n",
    "    \n",
    "    \n",
    "    return -loss_integral.item()\n",
    "\n",
    "best_edge_index = []\n",
    "def callback_generation(ga_instance):\n",
    "    global best_edge_index\n",
    "    print(\"Generation = {generation}\".format(generation=ga_instance.generations_completed))\n",
    "    print(\"Fitness    = {fitness}\".format(fitness=ga_instance.best_solution()[1]))\n",
    "    best_edge_index = update_rule.edge_index[:, ga_instance.best_solution()[0] > 0]\n",
    "    \n",
    "\n",
    "    # n_nodes = height*width + n_inputs + n_outputs\n",
    "    # graph = Data(edge_index=edge_index, x=torch.zeros(n_nodes, 1))\n",
    "    # graph = utils.to_networkx(graph, to_undirected=True, remove_self_loops = True)\n",
    "    # nx.draw(graph)\n",
    "    \n",
    "    \n",
    "\n",
    "    \n",
    "edge_model = EdgeModel()\n",
    "\n",
    "torch_ga = pygad.torchga.TorchGA(model=edge_model,\n",
    "                           num_solutions=10)\n",
    "\n",
    "ga_instance = pygad.GA(num_generations=1000000,\n",
    "                       num_parents_mating=5,\n",
    "                       initial_population=torch_ga.population_weights,\n",
    "                       fitness_func=fitness_func,\n",
    "                       parent_selection_type=\"sss\",\n",
    "                       crossover_type=\"single_point\",\n",
    "                       mutation_type=\"random\",\n",
    "                       mutation_percent_genes=10,\n",
    "                       keep_parents=-1,\n",
    "                       random_mutation_min_val = -1,\n",
    "                       random_mutation_max_val = 1,\n",
    "                       on_generation=callback_generation)\n",
    "ga_instance.run()\n"
   ]
  },
  {
   "cell_type": "code",
   "execution_count": null,
   "metadata": {},
   "outputs": [
    {
     "data": {
      "image/png": "[encoded data removed]",
      "text/plain": [
       "<Figure size 432x288 with 1 Axes>"
      ]
     },
     "metadata": {},
     "output_type": "display_data"
    }
   ],
   "source": [
    "\n",
    "n_nodes = height*width + n_inputs + n_outputs\n",
    "nodes = torch.zeros(n_nodes, 1)\n",
    "\n",
    "color_map = [\"blue\"] * height*width + [\"green\"] * n_inputs + [\"red\"] * n_outputs\n",
    "\n",
    "graph = Data(edge_index=best_edge_index, x=nodes)\n",
    "graph = utils.to_networkx(graph, to_undirected=False, remove_self_loops = True)\n",
    "\n",
    "nx.draw(graph, arrows=True, node_color=color_map)"
   ]
  },
  {
   "cell_type": "code",
   "execution_count": null,
   "metadata": {},
   "outputs": [],
   "source": [
    "import torch\n",
    "best_edge_index = torch.tensor([[ 0,  0,  1,  1,  2,  2,  3,  3,  3,  4,  4,  4,  5,  5,  1,  2,  0,  1,\n",
    "          2,  6,  6,  7,  8,  8,  8,  5,  5,  3,  9,  9, 10, 10, 11, 11,  0,  1,\n",
    "          3,  7,  8,  9, 10, 11],\n",
    "        [ 1,  4,  3,  5,  1,  5,  0,  1,  4,  0,  2,  5,  1,  2,  6,  6,  7,  7,\n",
    "          8,  1,  2,  0,  0,  1,  2, 10, 11, 11,  4,  3,  5,  4,  5,  3,  0,  1,\n",
    "          3,  7,  8,  9, 10, 11]])"
   ]
  },
  {
   "cell_type": "code",
   "execution_count": null,
   "metadata": {},
   "outputs": [
    {
     "data": {
      "text/plain": [
       "tensor([[ 0,  0,  1,  1,  1,  2,  2,  3,  3,  3,  4,  4,  4,  5,  5,  1,  2,  0,\n",
       "          1,  2,  6,  6,  7,  8,  8,  8,  5,  5,  3,  9, 10, 10, 11, 11,  0,  1,\n",
       "          3,  7,  8,  9, 10, 11],\n",
       "        [ 1,  4,  3,  4,  5,  1,  5,  0,  1,  4,  0,  2,  5,  1,  2,  6,  6,  7,\n",
       "          7,  8,  1,  2,  0,  0,  1,  2, 10, 11, 11,  5,  5,  4,  5,  3,  0,  1,\n",
       "          3,  7,  8,  9, 10, 11]])"
      ]
     },
     "execution_count": 15,
     "metadata": {},
     "output_type": "execute_result"
    }
   ],
   "source": [
    "edge_model.get_edges()"
   ]
  },
  {
   "cell_type": "code",
   "execution_count": null,
   "metadata": {},
   "outputs": [
    {
     "data": {
      "text/plain": [
       "tensor([[ 0,  0,  0,  1,  1,  1,  1,  1,  2,  2,  2,  3,  3,  3,  4,  4,  4,  4,\n",
       "          4,  5,  5,  5,  0,  1,  2,  0,  1,  2,  0,  1,  2,  6,  6,  6,  7,  7,\n",
       "          7,  8,  8,  8,  5,  4,  3,  5,  4,  3,  5,  4,  3,  9,  9,  9, 10, 10,\n",
       "         10, 11, 11, 11,  0,  1,  2,  3,  4,  5,  6,  7,  8,  9, 10, 11],\n",
       "        [ 1,  3,  4,  0,  2,  3,  4,  5,  1,  4,  5,  0,  1,  4,  0,  1,  2,  3,\n",
       "          5,  1,  2,  4,  6,  6,  6,  7,  7,  7,  8,  8,  8,  0,  1,  2,  0,  1,\n",
       "          2,  0,  1,  2,  9,  9,  9, 10, 10, 10, 11, 11, 11,  5,  4,  3,  5,  4,\n",
       "          3,  5,  4,  3,  0,  1,  2,  3,  4,  5,  6,  7,  8,  9, 10, 11]])"
      ]
     },
     "execution_count": 6,
     "metadata": {},
     "output_type": "execute_result"
    }
   ],
   "source": [
    "\n",
    "update_rule.edge_index"
   ]
  },
  {
   "cell_type": "code",
   "execution_count": null,
   "metadata": {},
   "outputs": [],
   "source": []
  }
 ],
 "metadata": {
  "kernelspec": {
   "display_name": "Python 3 (ipykernel)",
   "language": "python",
   "name": "python3"
  },
  "language_info": {
   "codemirror_mode": {
    "name": "ipython",
    "version": 3
   },
   "file_extension": ".py",
   "mimetype": "text/x-python",
   "name": "python",
   "nbconvert_exporter": "python",
   "pygments_lexer": "ipython3",
   "version": "3.9.12"
  },
  "orig_nbformat": 4,
  "vscode": {
   "interpreter": {
    "hash": "8645a3289b338b219b448912b5fab165e90ac259118b71d23942463e3b992b2d"
   }
  }
 },
 "nbformat": 4,
 "nbformat_minor": 2
}
