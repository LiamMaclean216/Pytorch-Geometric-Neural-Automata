{
 "cells": [
  {
   "cell_type": "code",
   "execution_count": null,
   "metadata": {},
   "outputs": [],
   "source": [
    "from turtle import up\n",
    "import torch\n",
    "import torch.nn as nn\n",
    "import torch.nn.functional as F\n",
    "import torch.optim as optim\n",
    "from torch.utils.data import DataLoader\n",
    "from torch_geometric.data import Data\n",
    "import networkx as nx\n",
    "import matplotlib.pyplot as plt\n",
    "import torch_geometric.utils as utils\n",
    "from utils import *\n",
    "from model import UpdateRule\n",
    "\n",
    "\n",
    "height = 3\n",
    "width = 2\n",
    "hidden_dim = 16\n",
    "\n",
    "\n",
    "n_inputs = 4\n",
    "n_outputs = 4\n",
    "\n",
    "\n",
    "# edges = build_edges(n_inputs, n_outputs, height, width)\n",
    "# type_dict = {\"hidden\": [1, 0, 0], \"input\": [0, 1, 0], \"output\": [0, 0, 1]}\n",
    "# total_hidden_dim = hidden_dim + len(type_dict[\"hidden\"]) #hidden data + type\n",
    "# n_nodes = height*width + n_inputs + n_outputs\n",
    "# x = torch.zeros(n_nodes, total_hidden_dim)\n",
    "# data = Data(edge_index=edges, x=x)\n",
    "# graph = utils.to_networkx(data, to_undirected=True, remove_self_loops = True)\n",
    "# nx.draw(graph)\n",
    "# print(data.x.shape)\n",
    "\n",
    "update_rule = UpdateRule(\n",
    "    height,\n",
    "    width,\n",
    "    n_inputs, \n",
    "    n_outputs,\n",
    "    hidden_dim,\n",
    "    512\n",
    ")\n",
    "update_rule.draw()\n"
   ]
  },
  {
   "cell_type": "code",
   "execution_count": null,
   "metadata": {},
   "outputs": [],
   "source": [
    "from datasets import *\n",
    "\n",
    "# dataset_loader = DataLoader(TranslateDataset(), batch_size=1, shuffle=True)\n",
    "\n",
    "meta_set = MetaDataset()\n",
    "\n",
    "update_rule = UpdateRule(\n",
    "    height,\n",
    "    width,\n",
    "    n_inputs, \n",
    "    n_outputs,\n",
    "    hidden_dim,\n",
    "    512\n",
    ")\n",
    "optimizer = torch.optim.Adam(update_rule.parameters(), lr=0.00001)\n",
    "\n",
    "n_steps = 2\n",
    "batch_size = 1\n",
    "for epoch in range(1000000):\n",
    "    for _ in range(batch_size):\n",
    "        for set_idx in meta_set.iterate():\n",
    "            update_rule.reset() \n",
    "            x = update_rule.initial\n",
    "            \n",
    "        \n",
    "            for problem_data_x, problem_data_y in meta_set.get_set(set_idx):\n",
    "                for i in range(n_steps):\n",
    "                    output_node_data = torch.zeros(problem_data_y.shape)\n",
    "                    x = update_rule(x, problem_data_x.float())\n",
    "                    \n",
    "                \n",
    "            network_output = update_rule.get_output(x)\n",
    "            loss = F.mse_loss(problem_data_y.float().squeeze(0), network_output)\n",
    "            \n",
    "            loss.backward()  \n",
    "    optimizer.step()  \n",
    "    optimizer.zero_grad()  \n",
    "        \n",
    "    print(f\"\\r Epoch {epoch * batch_size} | Loss {loss} | Network in: {problem_data_x}| Network out: {network_output.detach()} \", end=\"\")\n",
    "    # print(f\"\\r Epoch {epoch * batch_size} | Loss {loss}\", end=\"\")\n",
    "    \n",
    "    if epoch % (100 // batch_size) == 0:\n",
    "        print()\n"
   ]
  },
  {
   "cell_type": "code",
   "execution_count": null,
   "metadata": {},
   "outputs": [],
   "source": [
    "import numpy as np\n",
    "np.set_printoptions(precision=3)\n",
    "\n",
    "run_rule(torch.tensor([[0,0,0,1]]), update_rule)"
   ]
  },
  {
   "cell_type": "code",
   "execution_count": null,
   "metadata": {},
   "outputs": [],
   "source": []
  }
 ],
 "metadata": {
  "kernelspec": {
   "display_name": "Python 3.9.12 64-bit ('miniconda3')",
   "language": "python",
   "name": "python3"
  },
  "language_info": {
   "codemirror_mode": {
    "name": "ipython",
    "version": 3
   },
   "file_extension": ".py",
   "mimetype": "text/x-python",
   "name": "python",
   "nbconvert_exporter": "python",
   "pygments_lexer": "ipython3",
   "version": "3.9.12"
  },
  "orig_nbformat": 4,
  "vscode": {
   "interpreter": {
    "hash": "af8259ad5c1c9c7a69bd6ea085234cf8fd3a6a37a71ca551828b314c4d89b0ad"
   }
  }
 },
 "nbformat": 4,
 "nbformat_minor": 2
}
